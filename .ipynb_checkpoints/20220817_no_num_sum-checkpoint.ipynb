{
 "cells": [
  {
   "cell_type": "code",
   "execution_count": null,
   "id": "49950371-f210-469d-83c7-5728660c9318",
   "metadata": {},
   "outputs": [],
   "source": [
    "문제 설명\n",
    "0부터 9까지의 숫자 중 일부가 들어있는 정수 배열 numbers가 매개변수로 주어집니다. numbers에서 찾을 수 없는 0부터 9까지의 숫자를 모두 찾아 더한 수를 return 하도록 solution 함수를 완성해주세요.\n",
    "\n",
    "제한사항\n",
    "1 ≤ numbers의 길이 ≤ 9\n",
    "0 ≤ numbers의 모든 원소 ≤ 9\n",
    "numbers의 모든 원소는 서로 다릅니다.\n",
    "\n",
    "입출력 예\n",
    "numbers\tresult\n",
    "[1,2,3,4,6,7,8,0]\t14\n",
    "[5,8,4,0,6,7,9]\t6\n",
    "입출력 예 설명\n",
    "입출력 예 #1\n",
    "\n",
    "5, 9가 numbers에 없으므로, 5 + 9 = 14를 return 해야 합니다.\n",
    "\n",
    "입출력 예 #2\n",
    "\n",
    "1, 2, 3이 numbers에 없으므로, 1 + 2 + 3 = 6을 return 해야 합니다."
   ]
  },
  {
   "cell_type": "code",
   "execution_count": null,
   "id": "154503ec-f293-45ee-bd91-231c16ddc9a1",
   "metadata": {},
   "outputs": [],
   "source": [
    "def solution(numbers):\n",
    "    answer = 0\n",
    "    for i in range(10):\n",
    "        if i in numbers:\n",
    "            continue;\n",
    "        else:\n",
    "            answer += i\n",
    "    return answer"
   ]
  }
 ],
 "metadata": {
  "kernelspec": {
   "display_name": "Python 3",
   "language": "python",
   "name": "python3"
  },
  "language_info": {
   "codemirror_mode": {
    "name": "ipython",
    "version": 3
   },
   "file_extension": ".py",
   "mimetype": "text/x-python",
   "name": "python",
   "nbconvert_exporter": "python",
   "pygments_lexer": "ipython3",
   "version": "3.8.8"
  }
 },
 "nbformat": 4,
 "nbformat_minor": 5
}
