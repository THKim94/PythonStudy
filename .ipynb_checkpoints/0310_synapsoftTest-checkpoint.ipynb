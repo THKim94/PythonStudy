{
 "cells": [
  {
   "cell_type": "code",
   "execution_count": 1,
   "id": "b2588fda-572b-4a35-84a9-47fe56660048",
   "metadata": {},
   "outputs": [],
   "source": [
    "#주어진 문자열(공백 없이 쉼표로 구분되어 있음)을 가지고 아래 문제에 대한 프로그램을 작성하세요.\n",
    "\n",
    "#이유덕,이재영,권종표,이재영,박민호,강상희,이재영,김지완,최승혁,이성연,박영서,박민호,전경헌,송정환,김재성,이유덕,전경헌\n",
    "\n",
    "#1.김씨와 이씨는 각각 몇 명 인가요?\n",
    "#2.\"이재영\"이란 이름이 몇 번 반복되나요?\n",
    "#3.중복을 제거한 이름을 출력하세요.\n",
    "#4.중복을 제거한 이름을 오름차순으로 정렬하여 출력하세요.\n",
    "\n",
    "String_all=\"이유덕,이재영,권종표,이재영,박민호,강상희,이재영,김지완,최승혁,이성연,박영서,박민호,전경헌,송정환,김재성,이유덕,전경헌\""
   ]
  },
  {
   "cell_type": "code",
   "execution_count": 5,
   "id": "65b05663-f23e-4d3f-9fc3-70895b04c5a6",
   "metadata": {},
   "outputs": [
    {
     "name": "stdout",
     "output_type": "stream",
     "text": [
      "김씨: 2 명\n",
      "이씨: 6 명\n"
     ]
    }
   ],
   "source": [
    "list_all = String_all.split(\",\")\n",
    "#1.김씨와 이씨는 각각 몇 명 인가요?\n",
    "a=[]\n",
    "for i in list_all:\n",
    "    a.append(i[0])\n",
    "print(\"김씨:\",a.count(\"김\"),\"명\")\n",
    "print(\"이씨:\",a.count(\"이\"),\"명\")"
   ]
  },
  {
   "cell_type": "code",
   "execution_count": 7,
   "id": "d5c063e2-129f-4ce8-b25e-5920a278c369",
   "metadata": {},
   "outputs": [
    {
     "name": "stdout",
     "output_type": "stream",
     "text": [
      "'이재영'이란 이름은  3 번 반복됩니다.\n"
     ]
    }
   ],
   "source": [
    "#2.\"이재영\"이란 이름이 몇 번 반복되나요?\n",
    "print(\"'이재영'이란 이름은 \",list_all.count(\"이재영\"),\"번 반복됩니다.\")"
   ]
  },
  {
   "cell_type": "code",
   "execution_count": 11,
   "id": "b8940796-e760-42d9-aa29-c8fbcf14de63",
   "metadata": {},
   "outputs": [
    {
     "name": "stdout",
     "output_type": "stream",
     "text": [
      "['이성연', '강상희', '박민호', '권종표', '김지완', '송정환', '전경헌', '박영서', '이유덕', '최승혁', '김재성', '이재영']\n"
     ]
    }
   ],
   "source": [
    "#3.중복을 제거한 이름을 출력하세요.\n",
    "list_remove = list(set(list_all))\n",
    "print(list_remove)"
   ]
  },
  {
   "cell_type": "code",
   "execution_count": 12,
   "id": "cd70873c-7efb-4c50-a01b-7ad498f8a6c0",
   "metadata": {},
   "outputs": [
    {
     "name": "stdout",
     "output_type": "stream",
     "text": [
      "['강상희', '권종표', '김재성', '김지완', '박민호', '박영서', '송정환', '이성연', '이유덕', '이재영', '전경헌', '최승혁']\n"
     ]
    }
   ],
   "source": [
    "#4.중복을 제거한 이름을 오름차순으로 정렬하여 출력하세요.\n",
    "list_remove.sort()\n",
    "print(list_remove)"
   ]
  }
 ],
 "metadata": {
  "kernelspec": {
   "display_name": "Python 3",
   "language": "python",
   "name": "python3"
  },
  "language_info": {
   "codemirror_mode": {
    "name": "ipython",
    "version": 3
   },
   "file_extension": ".py",
   "mimetype": "text/x-python",
   "name": "python",
   "nbconvert_exporter": "python",
   "pygments_lexer": "ipython3",
   "version": "3.8.8"
  }
 },
 "nbformat": 4,
 "nbformat_minor": 5
}
