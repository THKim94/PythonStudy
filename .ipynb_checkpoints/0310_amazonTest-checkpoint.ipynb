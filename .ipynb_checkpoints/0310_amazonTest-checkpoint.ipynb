{
 "cells": [
  {
   "cell_type": "code",
   "execution_count": null,
   "id": "08946fb6-918f-41a0-9fe5-bf51cbd3dac6",
   "metadata": {},
   "outputs": [],
   "source": [
    "#다음과 같은 형태의 배열을\n",
    "\n",
    "#[a1,a2,a3...,an,b1,b2...bn]\n",
    "\n",
    "#다음과 같은 형태로 바꾸시오\n",
    "\n",
    "#[a1,b1,a2,b2.....an,bn]"
   ]
  },
  {
   "cell_type": "code",
   "execution_count": 2,
   "id": "f2b9e87d-ff40-4b3d-a65c-ea1b25240bfe",
   "metadata": {},
   "outputs": [
    {
     "name": "stdout",
     "output_type": "stream",
     "text": [
      "5\n",
      "['a1', 'b1', 'a2', 'b2', 'a3', 'b3', 'a4', 'b4', 'a5', 'b5']\n"
     ]
    }
   ],
   "source": [
    "amazon = [\"a1\",\"a2\",\"a3\",\"a4\",\"a5\",\"b1\",\"b2\",\"b3\",\"b4\",\"b5\"]\n",
    "amazon_final = []\n",
    "index = amazon.index(\"b1\")\n",
    "print(index)\n",
    "for i in range(index):\n",
    "    amazon_final.append(amazon[i])\n",
    "    amazon_final.append(amazon[index+i])\n",
    "\n",
    "print(amazon_final)"
   ]
  }
 ],
 "metadata": {
  "kernelspec": {
   "display_name": "Python 3",
   "language": "python",
   "name": "python3"
  },
  "language_info": {
   "codemirror_mode": {
    "name": "ipython",
    "version": 3
   },
   "file_extension": ".py",
   "mimetype": "text/x-python",
   "name": "python",
   "nbconvert_exporter": "python",
   "pygments_lexer": "ipython3",
   "version": "3.8.8"
  }
 },
 "nbformat": 4,
 "nbformat_minor": 5
}
