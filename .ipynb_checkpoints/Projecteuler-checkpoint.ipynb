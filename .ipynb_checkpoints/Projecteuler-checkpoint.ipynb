{
 "cells": [
  {
   "cell_type": "code",
   "execution_count": null,
   "id": "5591f4af-c236-4ca1-8f05-cd5c58025857",
   "metadata": {},
   "outputs": [],
   "source": [
    "#10 미만의 자연수에서 3과 5의 배수를 구하면 3,5,6,9이다. 이들의 총합은 23이다.\n",
    "#1000미만의 자연수에서 3,5의 배수의 총합을 구하라."
   ]
  },
  {
   "cell_type": "code",
   "execution_count": 4,
   "id": "d88fe2cd-9629-44e6-a9f2-bdc70ff8577f",
   "metadata": {},
   "outputs": [
    {
     "name": "stdout",
     "output_type": "stream",
     "text": [
      "233168\n"
     ]
    }
   ],
   "source": [
    "total=0\n",
    "\n",
    "for i in range(1,1000):\n",
    "    if i%3 == 0 or i%5 ==0:\n",
    "        total+=i\n",
    "print(total)"
   ]
  },
  {
   "cell_type": "code",
   "execution_count": 5,
   "id": "9c82a6a9-1212-4f82-b92a-7d6388d33375",
   "metadata": {},
   "outputs": [
    {
     "data": {
      "text/plain": [
       "233168"
      ]
     },
     "execution_count": 5,
     "metadata": {},
     "output_type": "execute_result"
    }
   ],
   "source": [
    "sum(i for i in range(1000) if i%3==0 or i%5==0)"
   ]
  },
  {
   "cell_type": "code",
   "execution_count": 7,
   "id": "6a8ee7ed-d6a5-4c26-925b-6e2e8aec23a7",
   "metadata": {},
   "outputs": [
    {
     "name": "stdout",
     "output_type": "stream",
     "text": [
      "233168\n"
     ]
    }
   ],
   "source": [
    "list_3 = [i for i in range(1,1000) if i %3 ==0]\n",
    "list_5 = [i for i in range(1,1000) if i %5 ==0]\n",
    "list_15 =[i for i in range(1,1000) if i %3==0 and i %5==0]\n",
    "\n",
    "total = sum(list_3)+sum(list_5)-sum(list_15)\n",
    "print(total)"
   ]
  },
  {
   "cell_type": "code",
   "execution_count": 8,
   "id": "b248142c-aa7d-451f-a060-354c44248b44",
   "metadata": {},
   "outputs": [
    {
     "name": "stdout",
     "output_type": "stream",
     "text": [
      "233168\n"
     ]
    }
   ],
   "source": [
    "def euler1(n):\n",
    "    i = 1\n",
    "    total =0\n",
    "    while i<n:\n",
    "        if i%3==0:\n",
    "            total+=i\n",
    "        elif i%5==0:\n",
    "            total+=i\n",
    "        i+=1\n",
    "    return total\n",
    "print(euler1(1000))"
   ]
  },
  {
   "cell_type": "code",
   "execution_count": 9,
   "id": "228d7749-0e76-471f-b493-9f47f74322f7",
   "metadata": {},
   "outputs": [
    {
     "name": "stdout",
     "output_type": "stream",
     "text": [
      "233168\n"
     ]
    }
   ],
   "source": [
    "def euler2(n):\n",
    "    i = 1\n",
    "    total =0\n",
    "    while i<n:\n",
    "        if i%3==0 or i%5==0:\n",
    "            total+=i\n",
    "        i+=1\n",
    "    return total\n",
    "print(euler2(1000))"
   ]
  },
  {
   "cell_type": "code",
   "execution_count": 10,
   "id": "a1245927-8fac-4956-a73d-3b4640962093",
   "metadata": {},
   "outputs": [
    {
     "name": "stdout",
     "output_type": "stream",
     "text": [
      "233168\n"
     ]
    }
   ],
   "source": [
    "s1 = set(range(0,1000,3))\n",
    "s2 = set(range(0,1000,5))\n",
    "print(sum(s1|s2))"
   ]
  }
 ],
 "metadata": {
  "kernelspec": {
   "display_name": "Python 3",
   "language": "python",
   "name": "python3"
  },
  "language_info": {
   "codemirror_mode": {
    "name": "ipython",
    "version": 3
   },
   "file_extension": ".py",
   "mimetype": "text/x-python",
   "name": "python",
   "nbconvert_exporter": "python",
   "pygments_lexer": "ipython3",
   "version": "3.8.8"
  }
 },
 "nbformat": 4,
 "nbformat_minor": 5
}
