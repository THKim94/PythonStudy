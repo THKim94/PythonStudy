{
 "cells": [
  {
   "cell_type": "code",
   "execution_count": null,
   "id": "f202ca14-e594-4a48-9572-2957007c09c3",
   "metadata": {},
   "outputs": [],
   "source": [
    "문제 설명\n",
    "스마트폰 전화 키패드의 각 칸에 다음과 같이 숫자들이 적혀 있습니다.\n",
    "\n",
    "1 2 3\n",
    "4 5 6\n",
    "7 8 9\n",
    "* 0 #\n",
    "\n",
    "이 전화 키패드에서 왼손과 오른손의 엄지손가락만을 이용해서 숫자만을 입력하려고 합니다.\n",
    "맨 처음 왼손 엄지손가락은 * 키패드에 오른손 엄지손가락은 # 키패드 위치에서 시작하며, 엄지손가락을 사용하는 규칙은 다음과 같습니다.\n",
    "\n",
    "엄지손가락은 상하좌우 4가지 방향으로만 이동할 수 있으며 키패드 이동 한 칸은 거리로 1에 해당합니다.\n",
    "왼쪽 열의 3개의 숫자 1, 4, 7을 입력할 때는 왼손 엄지손가락을 사용합니다.\n",
    "오른쪽 열의 3개의 숫자 3, 6, 9를 입력할 때는 오른손 엄지손가락을 사용합니다.\n",
    "가운데 열의 4개의 숫자 2, 5, 8, 0을 입력할 때는 두 엄지손가락의 현재 키패드의 위치에서 더 가까운 엄지손가락을 사용합니다.\n",
    "4-1. 만약 두 엄지손가락의 거리가 같다면, 오른손잡이는 오른손 엄지손가락, 왼손잡이는 왼손 엄지손가락을 사용합니다.\n",
    "순서대로 누를 번호가 담긴 배열 numbers, 왼손잡이인지 오른손잡이인 지를 나타내는 문자열 hand가 매개변수로 주어질 때, 각 번호를 누른 엄지손가락이 왼손인 지 오른손인 지를 나타내는 연속된 문자열 형태로 return 하도록 solution 함수를 완성해주세요.\n",
    "\n",
    "[제한사항]\n",
    "numbers 배열의 크기는 1 이상 1,000 이하입니다.\n",
    "numbers 배열 원소의 값은 0 이상 9 이하인 정수입니다.\n",
    "hand는 \"left\" 또는 \"right\" 입니다.\n",
    "\"left\"는 왼손잡이, \"right\"는 오른손잡이를 의미합니다.\n",
    "왼손 엄지손가락을 사용한 경우는 L, 오른손 엄지손가락을 사용한 경우는 R을 순서대로 이어붙여 문자열 형태로 return 해주세요."
   ]
  },
  {
   "cell_type": "code",
   "execution_count": null,
   "id": "2a39e63b-a484-4c49-856b-8b1bbcce83d0",
   "metadata": {},
   "outputs": [],
   "source": [
    "입출력 예\n",
    "numbers\thand\tresult\n",
    "[1, 3, 4, 5, 8, 2, 1, 4, 5, 9, 5]\t\"right\"\t\"LRLLLRLLRRL\"\n",
    "[7, 0, 8, 2, 8, 3, 1, 5, 7, 6, 2]\t\"left\"\t\"LRLLRRLLLRR\"\n",
    "[1, 2, 3, 4, 5, 6, 7, 8, 9, 0]\t\"right\"\t\"LLRLLRLLRL\"\n",
    "입출력 예에 대한 설명\n",
    "입출력 예 #1\n",
    "\n",
    "순서대로 눌러야 할 번호가 [1, 3, 4, 5, 8, 2, 1, 4, 5, 9, 5]이고, 오른손잡이입니다.\n",
    "\n",
    "왼손 위치\t오른손 위치\t눌러야 할 숫자\t사용한 손\t설명\n",
    "*\t#\t1\tL\t1은 왼손으로 누릅니다.\n",
    "1\t#\t3\tR\t3은 오른손으로 누릅니다.\n",
    "1\t3\t4\tL\t4는 왼손으로 누릅니다.\n",
    "4\t3\t5\tL\t왼손 거리는 1, 오른손 거리는 2이므로 왼손으로 5를 누릅니다.\n",
    "5\t3\t8\tL\t왼손 거리는 1, 오른손 거리는 3이므로 왼손으로 8을 누릅니다.\n",
    "8\t3\t2\tR\t왼손 거리는 2, 오른손 거리는 1이므로 오른손으로 2를 누릅니다.\n",
    "8\t2\t1\tL\t1은 왼손으로 누릅니다.\n",
    "1\t2\t4\tL\t4는 왼손으로 누릅니다.\n",
    "4\t2\t5\tR\t왼손 거리와 오른손 거리가 1로 같으므로, 오른손으로 5를 누릅니다.\n",
    "4\t5\t9\tR\t9는 오른손으로 누릅니다.\n",
    "4\t9\t5\tL\t왼손 거리는 1, 오른손 거리는 2이므로 왼손으로 5를 누릅니다.\n",
    "5\t9\t-\t-\t\n",
    "따라서 \"LRLLLRLLRRL\"를 return 합니다.\n",
    "\n",
    "입출력 예 #2\n",
    "\n",
    "왼손잡이가 [7, 0, 8, 2, 8, 3, 1, 5, 7, 6, 2]를 순서대로 누르면 사용한 손은 \"LRLLRRLLLRR\"이 됩니다.\n",
    "\n",
    "입출력 예 #3\n",
    "\n",
    "오른손잡이가 [1, 2, 3, 4, 5, 6, 7, 8, 9, 0]를 순서대로 누르면 사용한 손은 \"LLRLLRLLRL\"이 됩니다."
   ]
  },
  {
   "cell_type": "code",
   "execution_count": 41,
   "id": "60bac629-ecd1-41d9-a5f5-577341ae9302",
   "metadata": {},
   "outputs": [],
   "source": [
    "def solution(numbers, hand):\n",
    "    L = [];\n",
    "    R = [];\n",
    "    answer_list = [];\n",
    "    t=0;\n",
    "    if hand == \"left\":\n",
    "        answer_str = \"L\";\n",
    "    elif hand == \"right\":\n",
    "        answer_str = \"R\";\n",
    "    for i in numbers:\n",
    "        t +=1;\n",
    "        if i == 1 or i == 4 or i == 7:\n",
    "            L.append(i);\n",
    "            answer_list.append(\"L\");\n",
    "        elif i == 3 or i == 6 or i == 9:\n",
    "            R.append(i);\n",
    "            answer_list.append(\"R\");\n",
    "        elif i == 2 or  i == 5 or i == 8 or i == 0 :\n",
    "            if i == 0:\n",
    "                i = 11;\n",
    "            if len(L) == 0:\n",
    "                num_L = 10;\n",
    "            else:\n",
    "                num_L = L[-1];\n",
    "            if len(R) == 0:\n",
    "                num_R = 12;\n",
    "            else:\n",
    "                num_R = R[-1];\n",
    "            abs_L = abs(num_L-i);\n",
    "            abs_R = abs(num_R-i);\n",
    "            if 1<abs_L<3:\n",
    "                \n",
    "            if abs_L < abs_R:\n",
    "                L.append(i);\n",
    "                answer_list.append(\"L\");\n",
    "            elif abs_L > abs_R:\n",
    "                R.append(i);\n",
    "                answer_list.append(\"R\");\n",
    "            else:\n",
    "                answer_list.append(answer_str);\n",
    "                if answer_str == \"L\":\n",
    "                    answer_list.append(\"L\");\n",
    "                elif answer_str == \"R\":\n",
    "                    answer_list.append(\"R\");\n",
    "            print(\"abs_L:\",abs_L,\" \",t,\"번째\",num_L);\n",
    "            print(\"abs_R:\",abs_R,\" \",t,\"번째\",num_R);\n",
    "    answer = ''.join(s for s in answer_list);\n",
    "    print(L);\n",
    "    print(R);\n",
    "    return answer"
   ]
  },
  {
   "cell_type": "code",
   "execution_count": 42,
   "id": "1be07897-d446-43ac-b239-71912d6a91d3",
   "metadata": {},
   "outputs": [
    {
     "name": "stdout",
     "output_type": "stream",
     "text": [
      "abs_L: 1   4 번째 4\n",
      "abs_R: 2   4 번째 3\n",
      "abs_L: 3   5 번째 5\n",
      "abs_R: 5   5 번째 3\n",
      "abs_L: 6   6 번째 8\n",
      "abs_R: 1   6 번째 3\n",
      "abs_L: 1   9 번째 4\n",
      "abs_R: 3   9 번째 2\n",
      "abs_L: 0   11 번째 5\n",
      "abs_R: 4   11 번째 9\n",
      "[1, 4, 5, 8, 1, 4, 5, 5]\n",
      "[3, 2, 9]\n"
     ]
    },
    {
     "data": {
      "text/plain": [
       "'LRLLLRLLLRL'"
      ]
     },
     "execution_count": 42,
     "metadata": {},
     "output_type": "execute_result"
    }
   ],
   "source": [
    "solution([1, 3, 4, 5, 8, 2, 1, 4, 5, 9, 5],\"right\")\n",
    "#LRLLLRLLRRL"
   ]
  },
  {
   "cell_type": "code",
   "execution_count": 6,
   "id": "53f9f89a-40fa-48b9-a041-4c2933cd0f07",
   "metadata": {},
   "outputs": [
    {
     "name": "stdout",
     "output_type": "stream",
     "text": [
      "debug: accccbacabc \n"
     ]
    },
    {
     "data": {
      "text/plain": [
       "'LRLLLRLLLRL'"
      ]
     },
     "execution_count": 6,
     "metadata": {},
     "output_type": "execute_result"
    }
   ],
   "source": [
    "solution([7, 0, 8, 2, 8, 3, 1, 5, 7, 6, 2],\"left\")\n",
    "#LRLLRRLLLRR"
   ]
  },
  {
   "cell_type": "code",
   "execution_count": 22,
   "id": "740b3b28-3adb-437d-b0b9-78b5b90404e5",
   "metadata": {},
   "outputs": [
    {
     "name": "stdout",
     "output_type": "stream",
     "text": [
      "R\n"
     ]
    },
    {
     "data": {
      "text/plain": [
       "'LLRLLRLLRR'"
      ]
     },
     "execution_count": 22,
     "metadata": {},
     "output_type": "execute_result"
    }
   ],
   "source": [
    "solution([1, 2, 3, 4, 5, 6, 7, 8, 9, 0],\"right\")\n",
    "#LLRLLRLLRL"
   ]
  }
 ],
 "metadata": {
  "kernelspec": {
   "display_name": "Python 3",
   "language": "python",
   "name": "python3"
  },
  "language_info": {
   "codemirror_mode": {
    "name": "ipython",
    "version": 3
   },
   "file_extension": ".py",
   "mimetype": "text/x-python",
   "name": "python",
   "nbconvert_exporter": "python",
   "pygments_lexer": "ipython3",
   "version": "3.8.8"
  }
 },
 "nbformat": 4,
 "nbformat_minor": 5
}
