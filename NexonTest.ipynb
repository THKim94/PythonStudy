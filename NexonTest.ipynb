{
 "cells": [
  {
   "cell_type": "code",
   "execution_count": null,
   "id": "f8968811-57fb-42a8-8bfb-0e28a03469e9",
   "metadata": {},
   "outputs": [],
   "source": [
    "#자연수n 이 있을때, d(n)은 각 자릿수 숫자들과 n 자신을 더한 숫자라고 정의하자\n",
    "#ex)d(91)=9+1+91=101\n",
    "#이 때,n을 d(n)의 제네레이터라고한다.101의 제네레이터는 91이고,100도 101의 제네레이터이다.\n",
    "#제네레이터가 없는 숫자들도 있으며, 이런 숫자를 인도의 수학자Kaprekar가 셀프넘버(self-number)라 이름을 붙였다.\n",
    "#ex)1,3,5,7,9,20,31은 셀프 넘버 들이다.\n",
    "#1 이상 5000 미만 모든 셀프 넘버들의 합을 구하라."
   ]
  },
  {
   "cell_type": "code",
   "execution_count": 14,
   "id": "05bfb8fa-84f6-4b44-a281-28bd99c1075d",
   "metadata": {},
   "outputs": [
    {
     "name": "stdout",
     "output_type": "stream",
     "text": [
      "1227365\n"
     ]
    }
   ],
   "source": [
    "def d(number):\n",
    "    total = number\n",
    "    number = str(number)\n",
    "    for i in number:\n",
    "        total += int(i)\n",
    "    return total\n",
    "\n",
    "self_number_total = 0\n",
    "self_number_set = set()\n",
    "\n",
    "for i in range(1,5000):\n",
    "    self_number_set.add(d(i))\n",
    "for i in range(1,5000):\n",
    "    if not i in self_number_set:\n",
    "        self_number_total +=i\n",
    "\n",
    "print(self_number_total)"
   ]
  },
  {
   "cell_type": "code",
   "execution_count": 15,
   "id": "47cf1509-f7bd-41b4-bb15-2ca21f33ae39",
   "metadata": {},
   "outputs": [
    {
     "data": {
      "text/plain": [
       "1227365"
      ]
     },
     "execution_count": 15,
     "metadata": {},
     "output_type": "execute_result"
    }
   ],
   "source": [
    "sum(set(range(1,5000))-{x + sum([int(a) for a in str(x)]) for x in range(1,5000)})"
   ]
  }
 ],
 "metadata": {
  "kernelspec": {
   "display_name": "Python 3",
   "language": "python",
   "name": "python3"
  },
  "language_info": {
   "codemirror_mode": {
    "name": "ipython",
    "version": 3
   },
   "file_extension": ".py",
   "mimetype": "text/x-python",
   "name": "python",
   "nbconvert_exporter": "python",
   "pygments_lexer": "ipython3",
   "version": "3.8.8"
  }
 },
 "nbformat": 4,
 "nbformat_minor": 5
}
