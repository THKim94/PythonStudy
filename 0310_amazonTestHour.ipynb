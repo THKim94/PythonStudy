{
 "cells": [
  {
   "cell_type": "code",
   "execution_count": null,
   "id": "a8b53258-5313-44c1-a6c4-d6f24fc26595",
   "metadata": {},
   "outputs": [],
   "source": [
    "#A사무실에는 특정일자의 출퇴근 시간이 기록된 거대한 로그파일이 있다고 한다.\n",
    "\n",
    "#파일의 형식은 다음과 같다. (한 라인에서 앞부분은 출근시간(HH:MM:SS), 뒷부분은 퇴근시간이다)\n",
    "\n",
    "#09:12:23 11:14:35\n",
    "#10:34:01 13:23:40\n",
    "#10:34:31 11:20:10\n",
    "#특정시간을 입력(예:11:05:20)으로 주었을 때 그 시간에 총 몇 명이 사무실에 있었는지 알려주는 함수를 작성하시오."
   ]
  }
 ],
 "metadata": {
  "kernelspec": {
   "display_name": "Python 3",
   "language": "python",
   "name": "python3"
  },
  "language_info": {
   "codemirror_mode": {
    "name": "ipython",
    "version": 3
   },
   "file_extension": ".py",
   "mimetype": "text/x-python",
   "name": "python",
   "nbconvert_exporter": "python",
   "pygments_lexer": "ipython3",
   "version": "3.8.8"
  }
 },
 "nbformat": 4,
 "nbformat_minor": 5
}
