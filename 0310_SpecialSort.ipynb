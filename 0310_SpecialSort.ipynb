{
 "cells": [
  {
   "cell_type": "code",
   "execution_count": null,
   "id": "194eee3e-f450-4b69-b043-27814814c469",
   "metadata": {},
   "outputs": [],
   "source": [
    "#구글 전화면접 문제\n",
    "#n개의 정수를 가진 배열이 있다. 이 배열은 양의 정수와 음의 정수를 모두 가지고 있다.\n",
    "#이제 당신은 이 배열을 좀 특별한 방법으로 정렬해야 한다.\n",
    "#정렬이 되고 난 후 , 음의 정수는 앞쪽에 양의 정수는 뒷쪽에 있어야 한다. \n",
    "#또한 양의 정수와 음의 정수의 순서에는 변함이 없어야 한다.\n",
    "#ex) -1 1 3 -2 2    => -1 -2 1 3 2"
   ]
  },
  {
   "cell_type": "code",
   "execution_count": 1,
   "id": "c5b56a19-7c1e-4533-b69f-cdc02ffb277c",
   "metadata": {},
   "outputs": [
    {
     "name": "stdout",
     "output_type": "stream",
     "text": [
      "[-1, -2, 0, 0, 1, 3, 2, 4, 2, 6]\n"
     ]
    }
   ],
   "source": [
    "list_beforesort=[-1,1,3,-2,2,0,4,2,6,0]\n",
    "list_minus=[]\n",
    "list_plus=[]\n",
    "list_0=[]\n",
    "list_aftersort=[]\n",
    "\n",
    "for i in list_beforesort:\n",
    "    if i<0:\n",
    "        list_minus.append(i)\n",
    "    elif i==0:\n",
    "        list_0.append(i)\n",
    "    else:\n",
    "        list_plus.append(i)\n",
    "list_aftersort = list_minus+list_0+list_plus\n",
    "print(list_aftersort)"
   ]
  }
 ],
 "metadata": {
  "kernelspec": {
   "display_name": "Python 3",
   "language": "python",
   "name": "python3"
  },
  "language_info": {
   "codemirror_mode": {
    "name": "ipython",
    "version": 3
   },
   "file_extension": ".py",
   "mimetype": "text/x-python",
   "name": "python",
   "nbconvert_exporter": "python",
   "pygments_lexer": "ipython3",
   "version": "3.8.8"
  }
 },
 "nbformat": 4,
 "nbformat_minor": 5
}
